{
 "cells": [
  {
   "cell_type": "raw",
   "id": "9ec3f5af",
   "metadata": {},
   "source": [
    "Practical Assignment\n",
    "\n",
    "Objective: - Predict Next Sequence\n",
    "To start with deep learning, the very basic project that you can build is to predict the next digit in a sequence. \n",
    "\n",
    "Dataset: - Create a sequence like a list of odd numbers and then build a model and train it to predict the next digit in the sequence. \n",
    "\n",
    "Task: - A simple neural network with 2 layers would be sufficient to build the model.\n",
    "\n",
    "Assignment Submission: - Only submit the Google Colab/Github link.(Make the Link Public).\n",
    "\n",
    "\n"
   ]
  },
  {
   "cell_type": "code",
   "execution_count": 1,
   "id": "e369fa67",
   "metadata": {},
   "outputs": [],
   "source": [
    "import pandas as pd"
   ]
  },
  {
   "cell_type": "code",
   "execution_count": 2,
   "id": "28fe834d",
   "metadata": {},
   "outputs": [
    {
     "data": {
      "text/html": [
       "<div>\n",
       "<style scoped>\n",
       "    .dataframe tbody tr th:only-of-type {\n",
       "        vertical-align: middle;\n",
       "    }\n",
       "\n",
       "    .dataframe tbody tr th {\n",
       "        vertical-align: top;\n",
       "    }\n",
       "\n",
       "    .dataframe thead th {\n",
       "        text-align: right;\n",
       "    }\n",
       "</style>\n",
       "<table border=\"1\" class=\"dataframe\">\n",
       "  <thead>\n",
       "    <tr style=\"text-align: right;\">\n",
       "      <th></th>\n",
       "      <th>n1</th>\n",
       "      <th>n2</th>\n",
       "      <th>n3</th>\n",
       "      <th>n</th>\n",
       "    </tr>\n",
       "  </thead>\n",
       "  <tbody>\n",
       "    <tr>\n",
       "      <th>0</th>\n",
       "      <td>1</td>\n",
       "      <td>3</td>\n",
       "      <td>5</td>\n",
       "      <td>7</td>\n",
       "    </tr>\n",
       "    <tr>\n",
       "      <th>1</th>\n",
       "      <td>3</td>\n",
       "      <td>5</td>\n",
       "      <td>7</td>\n",
       "      <td>9</td>\n",
       "    </tr>\n",
       "    <tr>\n",
       "      <th>2</th>\n",
       "      <td>5</td>\n",
       "      <td>7</td>\n",
       "      <td>9</td>\n",
       "      <td>11</td>\n",
       "    </tr>\n",
       "    <tr>\n",
       "      <th>3</th>\n",
       "      <td>9</td>\n",
       "      <td>11</td>\n",
       "      <td>13</td>\n",
       "      <td>15</td>\n",
       "    </tr>\n",
       "    <tr>\n",
       "      <th>4</th>\n",
       "      <td>17</td>\n",
       "      <td>19</td>\n",
       "      <td>21</td>\n",
       "      <td>23</td>\n",
       "    </tr>\n",
       "  </tbody>\n",
       "</table>\n",
       "</div>"
      ],
      "text/plain": [
       "   n1  n2  n3   n\n",
       "0   1   3   5   7\n",
       "1   3   5   7   9\n",
       "2   5   7   9  11\n",
       "3   9  11  13  15\n",
       "4  17  19  21  23"
      ]
     },
     "execution_count": 2,
     "metadata": {},
     "output_type": "execute_result"
    }
   ],
   "source": [
    "data = pd.read_csv(\"oddnoseq.csv\")\n",
    "data.head(5)"
   ]
  },
  {
   "cell_type": "code",
   "execution_count": 3,
   "id": "b9ef7877",
   "metadata": {},
   "outputs": [
    {
     "name": "stdout",
     "output_type": "stream",
     "text": [
      "   n1  n2  n3\n",
      "0   1   3   5\n",
      "1   3   5   7\n",
      "2   5   7   9\n",
      "3   9  11  13\n",
      "4  17  19  21\n",
      "5  19  21  23 \n",
      "\n",
      " 0     7\n",
      "1     9\n",
      "2    11\n",
      "3    15\n",
      "4    23\n",
      "5    25\n",
      "Name: n, dtype: int64\n"
     ]
    }
   ],
   "source": [
    "x = data.iloc[:,:-1]\n",
    "y=data.iloc[:,-1]\n",
    "print(x,'\\n\\n',y)"
   ]
  },
  {
   "cell_type": "markdown",
   "id": "f0b89872",
   "metadata": {},
   "source": [
    "### ANN model building part"
   ]
  },
  {
   "cell_type": "code",
   "execution_count": 4,
   "id": "7830fbda",
   "metadata": {},
   "outputs": [],
   "source": [
    "# Importing the Keras libraries and packages\n",
    "import keras\n",
    "from keras.models import Sequential\n",
    "from keras.layers import Dense"
   ]
  },
  {
   "cell_type": "code",
   "execution_count": 5,
   "id": "44b75abb",
   "metadata": {},
   "outputs": [],
   "source": [
    "model = Sequential()\n",
    "# Adding the input layer and the first hidden layer\n",
    "#Units means no of neurons and input_dim take the no of features as input\n",
    "model.add(Dense( units= 128,activation='relu',input_dim = 3))# Adding the second hidden layer\n",
    "model.add(Dense(units = 64,activation='relu'))\n",
    "# Adding the output layer here units value is 1 because we want just 1 output\n",
    "model.add(Dense(1))\n"
   ]
  },
  {
   "cell_type": "code",
   "execution_count": 6,
   "id": "27e6c1e0",
   "metadata": {},
   "outputs": [],
   "source": [
    "# Compiling the ANN\n",
    "model.compile(optimizer='adam', loss='mse', metrics=['mae'])"
   ]
  },
  {
   "cell_type": "code",
   "execution_count": 7,
   "id": "fc1af78f",
   "metadata": {},
   "outputs": [
    {
     "name": "stdout",
     "output_type": "stream",
     "text": [
      "Epoch 1/50\n",
      "6/6 [==============================] - 14s 2ms/step - loss: 234.6149 - mae: 14.0642\n",
      "Epoch 2/50\n",
      "6/6 [==============================] - 0s 1ms/step - loss: 113.5948 - mae: 9.7085\n",
      "Epoch 3/50\n",
      "6/6 [==============================] - 0s 2ms/step - loss: 80.5612 - mae: 8.4434\n",
      "Epoch 4/50\n",
      "6/6 [==============================] - 0s 2ms/step - loss: 30.8118 - mae: 5.3120\n",
      "Epoch 5/50\n",
      "6/6 [==============================] - 0s 2ms/step - loss: 4.8436 - mae: 2.0304\n",
      "Epoch 6/50\n",
      "6/6 [==============================] - 0s 2ms/step - loss: 2.4919 - mae: 1.4930\n",
      "Epoch 7/50\n",
      "6/6 [==============================] - 0s 1ms/step - loss: 4.1880 - mae: 1.6996\n",
      "Epoch 8/50\n",
      "6/6 [==============================] - 0s 2ms/step - loss: 2.9896 - mae: 1.3907\n",
      "Epoch 9/50\n",
      "6/6 [==============================] - 0s 2ms/step - loss: 4.1300 - mae: 1.8566\n",
      "Epoch 10/50\n",
      "6/6 [==============================] - 0s 2ms/step - loss: 2.2319 - mae: 1.4415\n",
      "Epoch 11/50\n",
      "6/6 [==============================] - 0s 2ms/step - loss: 1.7630 - mae: 1.1784\n",
      "Epoch 12/50\n",
      "6/6 [==============================] - 0s 2ms/step - loss: 1.8014 - mae: 1.1911\n",
      "Epoch 13/50\n",
      "6/6 [==============================] - 0s 2ms/step - loss: 2.3790 - mae: 1.3254\n",
      "Epoch 14/50\n",
      "6/6 [==============================] - 0s 2ms/step - loss: 2.3977 - mae: 1.4623\n",
      "Epoch 15/50\n",
      "6/6 [==============================] - 0s 2ms/step - loss: 1.8581 - mae: 1.3273\n",
      "Epoch 16/50\n",
      "6/6 [==============================] - 0s 2ms/step - loss: 1.2554 - mae: 0.9982\n",
      "Epoch 17/50\n",
      "6/6 [==============================] - 0s 2ms/step - loss: 1.3684 - mae: 1.1089\n",
      "Epoch 18/50\n",
      "6/6 [==============================] - 0s 2ms/step - loss: 1.4070 - mae: 1.1264\n",
      "Epoch 19/50\n",
      "6/6 [==============================] - 0s 2ms/step - loss: 1.2934 - mae: 1.0602\n",
      "Epoch 20/50\n",
      "6/6 [==============================] - 0s 2ms/step - loss: 1.7959 - mae: 1.2842\n",
      "Epoch 21/50\n",
      "6/6 [==============================] - 0s 1ms/step - loss: 1.3485 - mae: 1.1230\n",
      "Epoch 22/50\n",
      "6/6 [==============================] - 0s 1ms/step - loss: 0.7588 - mae: 0.7861\n",
      "Epoch 23/50\n",
      "6/6 [==============================] - 0s 2ms/step - loss: 0.7842 - mae: 0.7144\n",
      "Epoch 24/50\n",
      "6/6 [==============================] - 0s 2ms/step - loss: 1.2707 - mae: 1.0680\n",
      "Epoch 25/50\n",
      "6/6 [==============================] - 0s 2ms/step - loss: 0.6856 - mae: 0.7807\n",
      "Epoch 26/50\n",
      "6/6 [==============================] - 0s 1ms/step - loss: 0.8779 - mae: 0.8747\n",
      "Epoch 27/50\n",
      "6/6 [==============================] - 0s 2ms/step - loss: 0.6547 - mae: 0.7368\n",
      "Epoch 28/50\n",
      "6/6 [==============================] - 0s 2ms/step - loss: 0.6695 - mae: 0.7706\n",
      "Epoch 29/50\n",
      "6/6 [==============================] - 0s 2ms/step - loss: 0.4297 - mae: 0.6248\n",
      "Epoch 30/50\n",
      "6/6 [==============================] - 0s 2ms/step - loss: 0.2722 - mae: 0.4320\n",
      "Epoch 31/50\n",
      "6/6 [==============================] - 0s 1ms/step - loss: 0.2530 - mae: 0.4095\n",
      "Epoch 32/50\n",
      "6/6 [==============================] - 0s 2ms/step - loss: 0.2933 - mae: 0.5087\n",
      "Epoch 33/50\n",
      "6/6 [==============================] - 0s 2ms/step - loss: 0.2493 - mae: 0.4453\n",
      "Epoch 34/50\n",
      "6/6 [==============================] - 0s 2ms/step - loss: 0.1643 - mae: 0.3774\n",
      "Epoch 35/50\n",
      "6/6 [==============================] - 0s 2ms/step - loss: 0.1625 - mae: 0.3541\n",
      "Epoch 36/50\n",
      "6/6 [==============================] - 0s 2ms/step - loss: 0.1555 - mae: 0.3470\n",
      "Epoch 37/50\n",
      "6/6 [==============================] - 0s 2ms/step - loss: 0.0700 - mae: 0.2080\n",
      "Epoch 38/50\n",
      "6/6 [==============================] - 0s 2ms/step - loss: 0.0778 - mae: 0.2619\n",
      "Epoch 39/50\n",
      "6/6 [==============================] - 0s 2ms/step - loss: 0.0326 - mae: 0.1400\n",
      "Epoch 40/50\n",
      "6/6 [==============================] - 0s 2ms/step - loss: 0.0372 - mae: 0.1496\n",
      "Epoch 41/50\n",
      "6/6 [==============================] - 0s 2ms/step - loss: 0.0419 - mae: 0.1892\n",
      "Epoch 42/50\n",
      "6/6 [==============================] - 0s 2ms/step - loss: 0.0391 - mae: 0.1853\n",
      "Epoch 43/50\n",
      "6/6 [==============================] - 0s 2ms/step - loss: 0.0322 - mae: 0.1614\n",
      "Epoch 44/50\n",
      "6/6 [==============================] - 0s 2ms/step - loss: 0.0059 - mae: 0.0679\n",
      "Epoch 45/50\n",
      "6/6 [==============================] - 0s 2ms/step - loss: 0.0027 - mae: 0.0441\n",
      "Epoch 46/50\n",
      "6/6 [==============================] - 0s 2ms/step - loss: 0.0090 - mae: 0.0734\n",
      "Epoch 47/50\n",
      "6/6 [==============================] - 0s 2ms/step - loss: 0.0060 - mae: 0.0543\n",
      "Epoch 48/50\n",
      "6/6 [==============================] - 0s 2ms/step - loss: 0.0028 - mae: 0.0276    \n",
      "Epoch 49/50\n",
      "6/6 [==============================] - 0s 2ms/step - loss: 0.0022 - mae: 0.0296\n",
      "Epoch 50/50\n",
      "6/6 [==============================] - 0s 1ms/step - loss: 0.0030 - mae: 0.0397\n"
     ]
    }
   ],
   "source": [
    "model_history = model.fit(x  , y , epochs = 50 , batch_size = 1 , verbose=1)"
   ]
  },
  {
   "cell_type": "code",
   "execution_count": 8,
   "id": "d5e4017c",
   "metadata": {},
   "outputs": [
    {
     "name": "stdout",
     "output_type": "stream",
     "text": [
      "dict_keys(['loss', 'mae'])\n"
     ]
    }
   ],
   "source": [
    "print(model_history.history.keys())"
   ]
  },
  {
   "cell_type": "code",
   "execution_count": 9,
   "id": "dcc45bce",
   "metadata": {},
   "outputs": [
    {
     "name": "stdout",
     "output_type": "stream",
     "text": [
      "Actual Output:- 9\n",
      "Predicted Output:-  9.018379\n"
     ]
    }
   ],
   "source": [
    "test_input = [[3,5,7]]\n",
    "print(\"Actual Output:- 9\")\n",
    "print(\"Predicted Output:- \",model.predict(test_input)[0][0])"
   ]
  },
  {
   "cell_type": "code",
   "execution_count": 10,
   "id": "787f6825",
   "metadata": {},
   "outputs": [
    {
     "name": "stdout",
     "output_type": "stream",
     "text": [
      "Actual Output:- 29\n",
      "Predicted Output:-  29.208027\n"
     ]
    }
   ],
   "source": [
    "test_input = [[23,25,27]]\n",
    "print(\"Actual Output:- 29\")\n",
    "print(\"Predicted Output:- \",model.predict(test_input)[0][0])"
   ]
  },
  {
   "cell_type": "markdown",
   "id": "bdcb3d61",
   "metadata": {},
   "source": [
    "## Thank you"
   ]
  },
  {
   "cell_type": "code",
   "execution_count": null,
   "id": "095284a7",
   "metadata": {},
   "outputs": [],
   "source": []
  }
 ],
 "metadata": {
  "kernelspec": {
   "display_name": "Python 3",
   "language": "python",
   "name": "python3"
  },
  "language_info": {
   "codemirror_mode": {
    "name": "ipython",
    "version": 3
   },
   "file_extension": ".py",
   "mimetype": "text/x-python",
   "name": "python",
   "nbconvert_exporter": "python",
   "pygments_lexer": "ipython3",
   "version": "3.6.13"
  }
 },
 "nbformat": 4,
 "nbformat_minor": 5
}
