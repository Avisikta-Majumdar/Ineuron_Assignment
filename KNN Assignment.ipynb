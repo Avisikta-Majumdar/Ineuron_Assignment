{
 "cells": [
  {
   "cell_type": "markdown",
   "metadata": {},
   "source": [
    "## In this assignment, students will be using the K-nearest neighbors  algorithm to predict how many points NBA players scored in the 2013-2014  season. "
   ]
  },
  {
   "cell_type": "raw",
   "metadata": {},
   "source": [
    "\n",
    "A look at the data \n",
    "Before we dive into the algorithm, let’s take a look at our data. Each row in  the data contains information on how a player performed in the 2013-2014  NBA season. \n",
    "Download 'nba_2013.csv' file from this link: \n",
    "https://www.dropbox.com/s/b3nv38jjo5dxcl6/nba_2013.csv?dl=0 Here are some selected columns from the data: \n",
    "player - name of the player \n",
    "pos - the position of the player \n",
    "g - number of games the player was in \n",
    "gs - number of games the player started \n",
    "pts - total points the player scored \n",
    "There are many more columns in the data, mostly containing information  about average player game performance over the course of the season.  See this site for an explanation of the rest of them. \n",
    "We can read our dataset in and figure out which columns are present:\n",
    "import pandas \n",
    "with open(\"nba_2013.csv\", 'r') as csvfile: \n",
    "nba = pandas.read_csv(csvfile)\n"
   ]
  },
  {
   "cell_type": "code",
   "execution_count": 1,
   "metadata": {},
   "outputs": [],
   "source": [
    "import numpy as np\n",
    "import pandas as pd\n",
    "import matplotlib.pyplot as plt\n",
    "from sklearn.neighbors import KNeighborsRegressor\n",
    "from sklearn.impute import SimpleImputer\n",
    "from sklearn.model_selection import train_test_split\n",
    "from sklearn.metrics import r2_score , mean_squared_error\n",
    "import math\n",
    "import seaborn as sns\n",
    "%matplotlib inline\n",
    "import warnings\n",
    "warnings.filterwarnings('ignore')"
   ]
  },
  {
   "cell_type": "code",
   "execution_count": 2,
   "metadata": {},
   "outputs": [],
   "source": [
    "nba = pd.read_csv('nba_2013.csv')"
   ]
  },
  {
   "cell_type": "code",
   "execution_count": 3,
   "metadata": {},
   "outputs": [
    {
     "name": "stdout",
     "output_type": "stream",
     "text": [
      "<class 'pandas.core.frame.DataFrame'>\n",
      "RangeIndex: 481 entries, 0 to 480\n",
      "Data columns (total 31 columns):\n",
      " #   Column        Non-Null Count  Dtype  \n",
      "---  ------        --------------  -----  \n",
      " 0   player        481 non-null    object \n",
      " 1   pos           481 non-null    object \n",
      " 2   age           481 non-null    int64  \n",
      " 3   bref_team_id  481 non-null    object \n",
      " 4   g             481 non-null    int64  \n",
      " 5   gs            481 non-null    int64  \n",
      " 6   mp            481 non-null    int64  \n",
      " 7   fg            481 non-null    int64  \n",
      " 8   fga           481 non-null    int64  \n",
      " 9   fg.           479 non-null    float64\n",
      " 10  x3p           481 non-null    int64  \n",
      " 11  x3pa          481 non-null    int64  \n",
      " 12  x3p.          414 non-null    float64\n",
      " 13  x2p           481 non-null    int64  \n",
      " 14  x2pa          481 non-null    int64  \n",
      " 15  x2p.          478 non-null    float64\n",
      " 16  efg.          479 non-null    float64\n",
      " 17  ft            481 non-null    int64  \n",
      " 18  fta           481 non-null    int64  \n",
      " 19  ft.           461 non-null    float64\n",
      " 20  orb           481 non-null    int64  \n",
      " 21  drb           481 non-null    int64  \n",
      " 22  trb           481 non-null    int64  \n",
      " 23  ast           481 non-null    int64  \n",
      " 24  stl           481 non-null    int64  \n",
      " 25  blk           481 non-null    int64  \n",
      " 26  tov           481 non-null    int64  \n",
      " 27  pf            481 non-null    int64  \n",
      " 28  pts           481 non-null    int64  \n",
      " 29  season        481 non-null    object \n",
      " 30  season_end    481 non-null    int64  \n",
      "dtypes: float64(5), int64(22), object(4)\n",
      "memory usage: 116.6+ KB\n"
     ]
    }
   ],
   "source": [
    "nba.info()"
   ]
  },
  {
   "cell_type": "code",
   "execution_count": 4,
   "metadata": {},
   "outputs": [
    {
     "data": {
      "text/html": [
       "<div>\n",
       "<style scoped>\n",
       "    .dataframe tbody tr th:only-of-type {\n",
       "        vertical-align: middle;\n",
       "    }\n",
       "\n",
       "    .dataframe tbody tr th {\n",
       "        vertical-align: top;\n",
       "    }\n",
       "\n",
       "    .dataframe thead th {\n",
       "        text-align: right;\n",
       "    }\n",
       "</style>\n",
       "<table border=\"1\" class=\"dataframe\">\n",
       "  <thead>\n",
       "    <tr style=\"text-align: right;\">\n",
       "      <th></th>\n",
       "      <th>age</th>\n",
       "      <th>g</th>\n",
       "      <th>gs</th>\n",
       "      <th>mp</th>\n",
       "      <th>fg</th>\n",
       "      <th>fga</th>\n",
       "      <th>fg.</th>\n",
       "      <th>x3p</th>\n",
       "      <th>x3pa</th>\n",
       "      <th>x3p.</th>\n",
       "      <th>...</th>\n",
       "      <th>orb</th>\n",
       "      <th>drb</th>\n",
       "      <th>trb</th>\n",
       "      <th>ast</th>\n",
       "      <th>stl</th>\n",
       "      <th>blk</th>\n",
       "      <th>tov</th>\n",
       "      <th>pf</th>\n",
       "      <th>pts</th>\n",
       "      <th>season_end</th>\n",
       "    </tr>\n",
       "  </thead>\n",
       "  <tbody>\n",
       "    <tr>\n",
       "      <th>count</th>\n",
       "      <td>481.000000</td>\n",
       "      <td>481.000000</td>\n",
       "      <td>481.000000</td>\n",
       "      <td>481.000000</td>\n",
       "      <td>481.000000</td>\n",
       "      <td>481.000000</td>\n",
       "      <td>479.000000</td>\n",
       "      <td>481.000000</td>\n",
       "      <td>481.000000</td>\n",
       "      <td>414.000000</td>\n",
       "      <td>...</td>\n",
       "      <td>481.000000</td>\n",
       "      <td>481.000000</td>\n",
       "      <td>481.000000</td>\n",
       "      <td>481.000000</td>\n",
       "      <td>481.000000</td>\n",
       "      <td>481.000000</td>\n",
       "      <td>481.000000</td>\n",
       "      <td>481.000000</td>\n",
       "      <td>481.000000</td>\n",
       "      <td>481.0</td>\n",
       "    </tr>\n",
       "    <tr>\n",
       "      <th>mean</th>\n",
       "      <td>26.509356</td>\n",
       "      <td>53.253638</td>\n",
       "      <td>25.571726</td>\n",
       "      <td>1237.386694</td>\n",
       "      <td>192.881497</td>\n",
       "      <td>424.463617</td>\n",
       "      <td>0.436436</td>\n",
       "      <td>39.613306</td>\n",
       "      <td>110.130977</td>\n",
       "      <td>0.285111</td>\n",
       "      <td>...</td>\n",
       "      <td>55.810811</td>\n",
       "      <td>162.817048</td>\n",
       "      <td>218.627859</td>\n",
       "      <td>112.536383</td>\n",
       "      <td>39.280665</td>\n",
       "      <td>24.103950</td>\n",
       "      <td>71.862786</td>\n",
       "      <td>105.869023</td>\n",
       "      <td>516.582121</td>\n",
       "      <td>2013.0</td>\n",
       "    </tr>\n",
       "    <tr>\n",
       "      <th>std</th>\n",
       "      <td>4.198265</td>\n",
       "      <td>25.322711</td>\n",
       "      <td>29.658465</td>\n",
       "      <td>897.258840</td>\n",
       "      <td>171.832793</td>\n",
       "      <td>368.850833</td>\n",
       "      <td>0.098672</td>\n",
       "      <td>50.855639</td>\n",
       "      <td>132.751732</td>\n",
       "      <td>0.157633</td>\n",
       "      <td>...</td>\n",
       "      <td>62.101191</td>\n",
       "      <td>145.348116</td>\n",
       "      <td>200.356507</td>\n",
       "      <td>131.019557</td>\n",
       "      <td>34.783590</td>\n",
       "      <td>30.875381</td>\n",
       "      <td>62.701690</td>\n",
       "      <td>71.213627</td>\n",
       "      <td>470.422228</td>\n",
       "      <td>0.0</td>\n",
       "    </tr>\n",
       "    <tr>\n",
       "      <th>min</th>\n",
       "      <td>19.000000</td>\n",
       "      <td>1.000000</td>\n",
       "      <td>0.000000</td>\n",
       "      <td>1.000000</td>\n",
       "      <td>0.000000</td>\n",
       "      <td>0.000000</td>\n",
       "      <td>0.000000</td>\n",
       "      <td>0.000000</td>\n",
       "      <td>0.000000</td>\n",
       "      <td>0.000000</td>\n",
       "      <td>...</td>\n",
       "      <td>0.000000</td>\n",
       "      <td>0.000000</td>\n",
       "      <td>0.000000</td>\n",
       "      <td>0.000000</td>\n",
       "      <td>0.000000</td>\n",
       "      <td>0.000000</td>\n",
       "      <td>0.000000</td>\n",
       "      <td>0.000000</td>\n",
       "      <td>0.000000</td>\n",
       "      <td>2013.0</td>\n",
       "    </tr>\n",
       "    <tr>\n",
       "      <th>25%</th>\n",
       "      <td>23.000000</td>\n",
       "      <td>32.000000</td>\n",
       "      <td>0.000000</td>\n",
       "      <td>388.000000</td>\n",
       "      <td>47.000000</td>\n",
       "      <td>110.000000</td>\n",
       "      <td>0.400500</td>\n",
       "      <td>0.000000</td>\n",
       "      <td>3.000000</td>\n",
       "      <td>0.234355</td>\n",
       "      <td>...</td>\n",
       "      <td>12.000000</td>\n",
       "      <td>43.000000</td>\n",
       "      <td>55.000000</td>\n",
       "      <td>20.000000</td>\n",
       "      <td>9.000000</td>\n",
       "      <td>4.000000</td>\n",
       "      <td>21.000000</td>\n",
       "      <td>44.000000</td>\n",
       "      <td>115.000000</td>\n",
       "      <td>2013.0</td>\n",
       "    </tr>\n",
       "    <tr>\n",
       "      <th>50%</th>\n",
       "      <td>26.000000</td>\n",
       "      <td>61.000000</td>\n",
       "      <td>10.000000</td>\n",
       "      <td>1141.000000</td>\n",
       "      <td>146.000000</td>\n",
       "      <td>332.000000</td>\n",
       "      <td>0.438000</td>\n",
       "      <td>16.000000</td>\n",
       "      <td>48.000000</td>\n",
       "      <td>0.330976</td>\n",
       "      <td>...</td>\n",
       "      <td>35.000000</td>\n",
       "      <td>135.000000</td>\n",
       "      <td>168.000000</td>\n",
       "      <td>65.000000</td>\n",
       "      <td>32.000000</td>\n",
       "      <td>14.000000</td>\n",
       "      <td>58.000000</td>\n",
       "      <td>104.000000</td>\n",
       "      <td>401.000000</td>\n",
       "      <td>2013.0</td>\n",
       "    </tr>\n",
       "    <tr>\n",
       "      <th>75%</th>\n",
       "      <td>29.000000</td>\n",
       "      <td>76.000000</td>\n",
       "      <td>54.000000</td>\n",
       "      <td>2016.000000</td>\n",
       "      <td>307.000000</td>\n",
       "      <td>672.000000</td>\n",
       "      <td>0.479500</td>\n",
       "      <td>68.000000</td>\n",
       "      <td>193.000000</td>\n",
       "      <td>0.375000</td>\n",
       "      <td>...</td>\n",
       "      <td>73.000000</td>\n",
       "      <td>230.000000</td>\n",
       "      <td>310.000000</td>\n",
       "      <td>152.000000</td>\n",
       "      <td>60.000000</td>\n",
       "      <td>32.000000</td>\n",
       "      <td>108.000000</td>\n",
       "      <td>158.000000</td>\n",
       "      <td>821.000000</td>\n",
       "      <td>2013.0</td>\n",
       "    </tr>\n",
       "    <tr>\n",
       "      <th>max</th>\n",
       "      <td>39.000000</td>\n",
       "      <td>83.000000</td>\n",
       "      <td>82.000000</td>\n",
       "      <td>3122.000000</td>\n",
       "      <td>849.000000</td>\n",
       "      <td>1688.000000</td>\n",
       "      <td>1.000000</td>\n",
       "      <td>261.000000</td>\n",
       "      <td>615.000000</td>\n",
       "      <td>1.000000</td>\n",
       "      <td>...</td>\n",
       "      <td>440.000000</td>\n",
       "      <td>783.000000</td>\n",
       "      <td>1114.000000</td>\n",
       "      <td>721.000000</td>\n",
       "      <td>191.000000</td>\n",
       "      <td>219.000000</td>\n",
       "      <td>295.000000</td>\n",
       "      <td>273.000000</td>\n",
       "      <td>2593.000000</td>\n",
       "      <td>2013.0</td>\n",
       "    </tr>\n",
       "  </tbody>\n",
       "</table>\n",
       "<p>8 rows × 27 columns</p>\n",
       "</div>"
      ],
      "text/plain": [
       "              age           g          gs           mp          fg  \\\n",
       "count  481.000000  481.000000  481.000000   481.000000  481.000000   \n",
       "mean    26.509356   53.253638   25.571726  1237.386694  192.881497   \n",
       "std      4.198265   25.322711   29.658465   897.258840  171.832793   \n",
       "min     19.000000    1.000000    0.000000     1.000000    0.000000   \n",
       "25%     23.000000   32.000000    0.000000   388.000000   47.000000   \n",
       "50%     26.000000   61.000000   10.000000  1141.000000  146.000000   \n",
       "75%     29.000000   76.000000   54.000000  2016.000000  307.000000   \n",
       "max     39.000000   83.000000   82.000000  3122.000000  849.000000   \n",
       "\n",
       "               fga         fg.         x3p        x3pa        x3p.  ...  \\\n",
       "count   481.000000  479.000000  481.000000  481.000000  414.000000  ...   \n",
       "mean    424.463617    0.436436   39.613306  110.130977    0.285111  ...   \n",
       "std     368.850833    0.098672   50.855639  132.751732    0.157633  ...   \n",
       "min       0.000000    0.000000    0.000000    0.000000    0.000000  ...   \n",
       "25%     110.000000    0.400500    0.000000    3.000000    0.234355  ...   \n",
       "50%     332.000000    0.438000   16.000000   48.000000    0.330976  ...   \n",
       "75%     672.000000    0.479500   68.000000  193.000000    0.375000  ...   \n",
       "max    1688.000000    1.000000  261.000000  615.000000    1.000000  ...   \n",
       "\n",
       "              orb         drb          trb         ast         stl  \\\n",
       "count  481.000000  481.000000   481.000000  481.000000  481.000000   \n",
       "mean    55.810811  162.817048   218.627859  112.536383   39.280665   \n",
       "std     62.101191  145.348116   200.356507  131.019557   34.783590   \n",
       "min      0.000000    0.000000     0.000000    0.000000    0.000000   \n",
       "25%     12.000000   43.000000    55.000000   20.000000    9.000000   \n",
       "50%     35.000000  135.000000   168.000000   65.000000   32.000000   \n",
       "75%     73.000000  230.000000   310.000000  152.000000   60.000000   \n",
       "max    440.000000  783.000000  1114.000000  721.000000  191.000000   \n",
       "\n",
       "              blk         tov          pf          pts  season_end  \n",
       "count  481.000000  481.000000  481.000000   481.000000       481.0  \n",
       "mean    24.103950   71.862786  105.869023   516.582121      2013.0  \n",
       "std     30.875381   62.701690   71.213627   470.422228         0.0  \n",
       "min      0.000000    0.000000    0.000000     0.000000      2013.0  \n",
       "25%      4.000000   21.000000   44.000000   115.000000      2013.0  \n",
       "50%     14.000000   58.000000  104.000000   401.000000      2013.0  \n",
       "75%     32.000000  108.000000  158.000000   821.000000      2013.0  \n",
       "max    219.000000  295.000000  273.000000  2593.000000      2013.0  \n",
       "\n",
       "[8 rows x 27 columns]"
      ]
     },
     "execution_count": 4,
     "metadata": {},
     "output_type": "execute_result"
    }
   ],
   "source": [
    "nba.describe()"
   ]
  },
  {
   "cell_type": "code",
   "execution_count": 5,
   "metadata": {},
   "outputs": [
    {
     "data": {
      "text/plain": [
       "Index(['player', 'pos', 'age', 'bref_team_id', 'g', 'gs', 'mp', 'fg', 'fga',\n",
       "       'fg.', 'x3p', 'x3pa', 'x3p.', 'x2p', 'x2pa', 'x2p.', 'efg.', 'ft',\n",
       "       'fta', 'ft.', 'orb', 'drb', 'trb', 'ast', 'stl', 'blk', 'tov', 'pf',\n",
       "       'pts', 'season', 'season_end'],\n",
       "      dtype='object')"
      ]
     },
     "execution_count": 5,
     "metadata": {},
     "output_type": "execute_result"
    }
   ],
   "source": [
    "nba.columns"
   ]
  },
  {
   "cell_type": "code",
   "execution_count": 6,
   "metadata": {},
   "outputs": [
    {
     "data": {
      "text/plain": [
       "player           0\n",
       "pos              0\n",
       "age              0\n",
       "bref_team_id     0\n",
       "g                0\n",
       "gs               0\n",
       "mp               0\n",
       "fg               0\n",
       "fga              0\n",
       "fg.              2\n",
       "x3p              0\n",
       "x3pa             0\n",
       "x3p.            67\n",
       "x2p              0\n",
       "x2pa             0\n",
       "x2p.             3\n",
       "efg.             2\n",
       "ft               0\n",
       "fta              0\n",
       "ft.             20\n",
       "orb              0\n",
       "drb              0\n",
       "trb              0\n",
       "ast              0\n",
       "stl              0\n",
       "blk              0\n",
       "tov              0\n",
       "pf               0\n",
       "pts              0\n",
       "season           0\n",
       "season_end       0\n",
       "dtype: int64"
      ]
     },
     "execution_count": 6,
     "metadata": {},
     "output_type": "execute_result"
    }
   ],
   "source": [
    "nba.isnull().sum()"
   ]
  },
  {
   "cell_type": "code",
   "execution_count": 7,
   "metadata": {},
   "outputs": [
    {
     "data": {
      "text/html": [
       "<div>\n",
       "<style scoped>\n",
       "    .dataframe tbody tr th:only-of-type {\n",
       "        vertical-align: middle;\n",
       "    }\n",
       "\n",
       "    .dataframe tbody tr th {\n",
       "        vertical-align: top;\n",
       "    }\n",
       "\n",
       "    .dataframe thead th {\n",
       "        text-align: right;\n",
       "    }\n",
       "</style>\n",
       "<table border=\"1\" class=\"dataframe\">\n",
       "  <thead>\n",
       "    <tr style=\"text-align: right;\">\n",
       "      <th></th>\n",
       "      <th>player</th>\n",
       "      <th>pos</th>\n",
       "      <th>age</th>\n",
       "      <th>bref_team_id</th>\n",
       "      <th>g</th>\n",
       "      <th>gs</th>\n",
       "      <th>mp</th>\n",
       "      <th>fg</th>\n",
       "      <th>fga</th>\n",
       "      <th>fg.</th>\n",
       "      <th>...</th>\n",
       "      <th>drb</th>\n",
       "      <th>trb</th>\n",
       "      <th>ast</th>\n",
       "      <th>stl</th>\n",
       "      <th>blk</th>\n",
       "      <th>tov</th>\n",
       "      <th>pf</th>\n",
       "      <th>pts</th>\n",
       "      <th>season</th>\n",
       "      <th>season_end</th>\n",
       "    </tr>\n",
       "  </thead>\n",
       "  <tbody>\n",
       "    <tr>\n",
       "      <th>1</th>\n",
       "      <td>Steven Adams</td>\n",
       "      <td>C</td>\n",
       "      <td>20</td>\n",
       "      <td>OKC</td>\n",
       "      <td>81</td>\n",
       "      <td>20</td>\n",
       "      <td>1197</td>\n",
       "      <td>93</td>\n",
       "      <td>185</td>\n",
       "      <td>0.503</td>\n",
       "      <td>...</td>\n",
       "      <td>190</td>\n",
       "      <td>332</td>\n",
       "      <td>43</td>\n",
       "      <td>40</td>\n",
       "      <td>57</td>\n",
       "      <td>71</td>\n",
       "      <td>203</td>\n",
       "      <td>265</td>\n",
       "      <td>2013-2014</td>\n",
       "      <td>2013</td>\n",
       "    </tr>\n",
       "    <tr>\n",
       "      <th>2</th>\n",
       "      <td>Jeff Adrien</td>\n",
       "      <td>PF</td>\n",
       "      <td>27</td>\n",
       "      <td>TOT</td>\n",
       "      <td>53</td>\n",
       "      <td>12</td>\n",
       "      <td>961</td>\n",
       "      <td>143</td>\n",
       "      <td>275</td>\n",
       "      <td>0.520</td>\n",
       "      <td>...</td>\n",
       "      <td>204</td>\n",
       "      <td>306</td>\n",
       "      <td>38</td>\n",
       "      <td>24</td>\n",
       "      <td>36</td>\n",
       "      <td>39</td>\n",
       "      <td>108</td>\n",
       "      <td>362</td>\n",
       "      <td>2013-2014</td>\n",
       "      <td>2013</td>\n",
       "    </tr>\n",
       "    <tr>\n",
       "      <th>5</th>\n",
       "      <td>Cole Aldrich</td>\n",
       "      <td>C</td>\n",
       "      <td>25</td>\n",
       "      <td>NYK</td>\n",
       "      <td>46</td>\n",
       "      <td>2</td>\n",
       "      <td>330</td>\n",
       "      <td>33</td>\n",
       "      <td>61</td>\n",
       "      <td>0.541</td>\n",
       "      <td>...</td>\n",
       "      <td>92</td>\n",
       "      <td>129</td>\n",
       "      <td>14</td>\n",
       "      <td>8</td>\n",
       "      <td>30</td>\n",
       "      <td>18</td>\n",
       "      <td>40</td>\n",
       "      <td>92</td>\n",
       "      <td>2013-2014</td>\n",
       "      <td>2013</td>\n",
       "    </tr>\n",
       "    <tr>\n",
       "      <th>11</th>\n",
       "      <td>Louis Amundson</td>\n",
       "      <td>PF</td>\n",
       "      <td>31</td>\n",
       "      <td>TOT</td>\n",
       "      <td>19</td>\n",
       "      <td>0</td>\n",
       "      <td>185</td>\n",
       "      <td>16</td>\n",
       "      <td>32</td>\n",
       "      <td>0.500</td>\n",
       "      <td>...</td>\n",
       "      <td>27</td>\n",
       "      <td>55</td>\n",
       "      <td>6</td>\n",
       "      <td>9</td>\n",
       "      <td>11</td>\n",
       "      <td>14</td>\n",
       "      <td>49</td>\n",
       "      <td>38</td>\n",
       "      <td>2013-2014</td>\n",
       "      <td>2013</td>\n",
       "    </tr>\n",
       "    <tr>\n",
       "      <th>18</th>\n",
       "      <td>Joel Anthony</td>\n",
       "      <td>C</td>\n",
       "      <td>31</td>\n",
       "      <td>TOT</td>\n",
       "      <td>33</td>\n",
       "      <td>0</td>\n",
       "      <td>186</td>\n",
       "      <td>12</td>\n",
       "      <td>32</td>\n",
       "      <td>0.375</td>\n",
       "      <td>...</td>\n",
       "      <td>23</td>\n",
       "      <td>38</td>\n",
       "      <td>2</td>\n",
       "      <td>3</td>\n",
       "      <td>12</td>\n",
       "      <td>3</td>\n",
       "      <td>17</td>\n",
       "      <td>28</td>\n",
       "      <td>2013-2014</td>\n",
       "      <td>2013</td>\n",
       "    </tr>\n",
       "  </tbody>\n",
       "</table>\n",
       "<p>5 rows × 31 columns</p>\n",
       "</div>"
      ],
      "text/plain": [
       "            player pos  age bref_team_id   g  gs    mp   fg  fga    fg.  ...  \\\n",
       "1     Steven Adams   C   20          OKC  81  20  1197   93  185  0.503  ...   \n",
       "2      Jeff Adrien  PF   27          TOT  53  12   961  143  275  0.520  ...   \n",
       "5     Cole Aldrich   C   25          NYK  46   2   330   33   61  0.541  ...   \n",
       "11  Louis Amundson  PF   31          TOT  19   0   185   16   32  0.500  ...   \n",
       "18    Joel Anthony   C   31          TOT  33   0   186   12   32  0.375  ...   \n",
       "\n",
       "    drb  trb  ast  stl  blk  tov   pf  pts     season  season_end  \n",
       "1   190  332   43   40   57   71  203  265  2013-2014        2013  \n",
       "2   204  306   38   24   36   39  108  362  2013-2014        2013  \n",
       "5    92  129   14    8   30   18   40   92  2013-2014        2013  \n",
       "11   27   55    6    9   11   14   49   38  2013-2014        2013  \n",
       "18   23   38    2    3   12    3   17   28  2013-2014        2013  \n",
       "\n",
       "[5 rows x 31 columns]"
      ]
     },
     "execution_count": 7,
     "metadata": {},
     "output_type": "execute_result"
    }
   ],
   "source": [
    "nba[nba[\"x3p.\"].isnull()].head()"
   ]
  },
  {
   "cell_type": "code",
   "execution_count": 8,
   "metadata": {},
   "outputs": [
    {
     "data": {
      "text/plain": [
       "2013-2014    481\n",
       "Name: season, dtype: int64"
      ]
     },
     "execution_count": 8,
     "metadata": {},
     "output_type": "execute_result"
    }
   ],
   "source": [
    "nba.season.value_counts()"
   ]
  },
  {
   "cell_type": "code",
   "execution_count": 9,
   "metadata": {},
   "outputs": [
    {
     "data": {
      "text/plain": [
       "2013    481\n",
       "Name: season_end, dtype: int64"
      ]
     },
     "execution_count": 9,
     "metadata": {},
     "output_type": "execute_result"
    }
   ],
   "source": [
    "nba.season_end.value_counts()"
   ]
  },
  {
   "cell_type": "code",
   "execution_count": 10,
   "metadata": {},
   "outputs": [
    {
     "data": {
      "text/plain": [
       "['player', 'pos', 'bref_team_id', 'season']"
      ]
     },
     "execution_count": 10,
     "metadata": {},
     "output_type": "execute_result"
    }
   ],
   "source": [
    "feat_list_obj = []\n",
    "for i in nba.columns:\n",
    "    if nba[i].dtype==\"object\":\n",
    "        feat_list_obj.append(i)\n",
    "        \n",
    "feat_list_obj"
   ]
  },
  {
   "cell_type": "code",
   "execution_count": 11,
   "metadata": {},
   "outputs": [
    {
     "data": {
      "text/plain": [
       "['player', 'pos', 'bref_team_id', 'season', 'season_end', 'pts']"
      ]
     },
     "execution_count": 11,
     "metadata": {},
     "output_type": "execute_result"
    }
   ],
   "source": [
    "feat_drop_list = feat_list_obj +[\"season_end\",\"pts\"]\n",
    "feat_drop_list"
   ]
  },
  {
   "cell_type": "code",
   "execution_count": 12,
   "metadata": {},
   "outputs": [
    {
     "name": "stdout",
     "output_type": "stream",
     "text": [
      "(481, 25)\n",
      "(481,)\n"
     ]
    }
   ],
   "source": [
    "Features = nba.drop(feat_drop_list,axis=1)\n",
    "Lables= nba[\"pts\"]\n",
    "print(Features.shape)\n",
    "print(Lables.shape)"
   ]
  },
  {
   "cell_type": "code",
   "execution_count": 13,
   "metadata": {},
   "outputs": [
    {
     "data": {
      "text/plain": [
       "age      0\n",
       "g        0\n",
       "gs       0\n",
       "mp       0\n",
       "fg       0\n",
       "fga      0\n",
       "fg.      2\n",
       "x3p      0\n",
       "x3pa     0\n",
       "x3p.    67\n",
       "x2p      0\n",
       "x2pa     0\n",
       "x2p.     3\n",
       "efg.     2\n",
       "ft       0\n",
       "fta      0\n",
       "ft.     20\n",
       "orb      0\n",
       "drb      0\n",
       "trb      0\n",
       "ast      0\n",
       "stl      0\n",
       "blk      0\n",
       "tov      0\n",
       "pf       0\n",
       "dtype: int64"
      ]
     },
     "execution_count": 13,
     "metadata": {},
     "output_type": "execute_result"
    }
   ],
   "source": [
    "Features.isnull().sum()"
   ]
  },
  {
   "cell_type": "code",
   "execution_count": 14,
   "metadata": {},
   "outputs": [],
   "source": [
    "Features[\"fg.\"].fillna(Features[\"fg.\"].mean(),inplace=True)\n",
    "Features[\"x2p.\"].fillna(Features[\"x2p.\"].mean(),inplace=True)\n",
    "Features[\"efg.\"].fillna(Features[\"efg.\"].mean(),inplace=True)\n",
    "Features[\"x3p.\"].fillna(Features[\"x3p.\"].mean(),inplace=True)\n",
    "Features[\"ft.\"].fillna(Features[\"ft.\"].mean(),inplace=True)\n",
    "Y = Lables.values ##--> Dependent Values"
   ]
  },
  {
   "cell_type": "code",
   "execution_count": 15,
   "metadata": {},
   "outputs": [
    {
     "data": {
      "text/plain": [
       "age     0\n",
       "g       0\n",
       "gs      0\n",
       "mp      0\n",
       "fg      0\n",
       "fga     0\n",
       "fg.     0\n",
       "x3p     0\n",
       "x3pa    0\n",
       "x3p.    0\n",
       "x2p     0\n",
       "x2pa    0\n",
       "x2p.    0\n",
       "efg.    0\n",
       "ft      0\n",
       "fta     0\n",
       "ft.     0\n",
       "orb     0\n",
       "drb     0\n",
       "trb     0\n",
       "ast     0\n",
       "stl     0\n",
       "blk     0\n",
       "tov     0\n",
       "pf      0\n",
       "dtype: int64"
      ]
     },
     "execution_count": 15,
     "metadata": {},
     "output_type": "execute_result"
    }
   ],
   "source": [
    "Features.isnull().sum()"
   ]
  },
  {
   "cell_type": "code",
   "execution_count": 16,
   "metadata": {},
   "outputs": [],
   "source": [
    "x_train,x_test,y_train,y_test = train_test_split(Features,Y)"
   ]
  },
  {
   "cell_type": "code",
   "execution_count": 17,
   "metadata": {},
   "outputs": [
    {
     "name": "stdout",
     "output_type": "stream",
     "text": [
      "(360, 25)\n",
      "(121, 25)\n",
      "(360,)\n",
      "(121,)\n"
     ]
    }
   ],
   "source": [
    "print(x_train.shape)\n",
    "print(x_test.shape)\n",
    "print(y_train.shape)\n",
    "print(y_test.shape)"
   ]
  },
  {
   "cell_type": "code",
   "execution_count": 18,
   "metadata": {},
   "outputs": [
    {
     "name": "stdout",
     "output_type": "stream",
     "text": [
      "RMSE is :-  88.14361871775607 For k value 1\n",
      "RMSE is :-  81.34522391969583 For k value 2\n",
      "RMSE is :-  72.85064031500823 For k value 3\n",
      "RMSE is :-  77.57868239929006 For k value 4\n",
      "RMSE is :-  81.33551570932885 For k value 5\n",
      "RMSE is :-  82.92611108082846 For k value 6\n",
      "RMSE is :-  87.92879849240383 For k value 7\n",
      "RMSE is :-  88.97359289383573 For k value 8\n",
      "RMSE is :-  90.58101632414188 For k value 9\n",
      "RMSE is :-  91.29329947441717 For k value 10\n",
      "RMSE is :-  92.16674138023905 For k value 11\n",
      "RMSE is :-  91.2252293510743 For k value 12\n",
      "RMSE is :-  90.5259853963601 For k value 13\n",
      "RMSE is :-  93.9551023981956 For k value 14\n",
      "RMSE is :-  95.37743147758651 For k value 15\n",
      "RMSE is :-  97.42398399542753 For k value 16\n",
      "RMSE is :-  98.78410995872197 For k value 17\n",
      "RMSE is :-  96.5671266687894 For k value 18\n",
      "RMSE is :-  98.62167831755075 For k value 19\n",
      "RMSE is :-  101.73117101962796 For k value 20\n"
     ]
    }
   ],
   "source": [
    "sns.set_style(\"whitegrid\")\n",
    "for k in range(20):\n",
    "    k_value=1+k\n",
    "    neu=igh = KNeighborsRegressor(n_neighbors=k_value)\n",
    "    neu.fit(x_train,y_train)\n",
    "    y_pred = neu.predict(x_test)\n",
    "    print(\"RMSE is :- \",np.sqrt(mean_squared_error(y_pred,y_test)),\"For k value {}\".format(k_value))"
   ]
  },
  {
   "cell_type": "code",
   "execution_count": 19,
   "metadata": {},
   "outputs": [
    {
     "name": "stdout",
     "output_type": "stream",
     "text": [
      "RMSE for KNN Regressor is  :-  81.33551570932885 For k value 5\n",
      "R Squared for KNN Regressor is  :-  0.9726611329606782\n"
     ]
    }
   ],
   "source": [
    "#note : It shows that we are get less error for values K =  5 , 6\n",
    "k_value=5\n",
    "neuigh=igh = KNeighborsRegressor(n_neighbors=k_value)\n",
    "neuigh.fit(x_train,y_train)\n",
    "y_pred = neuigh.predict(x_test)\n",
    "print(\"RMSE for KNN Regressor is  :- \",np.sqrt(mean_squared_error(y_pred,y_test)),\"For k value {}\".format(k_value))\n",
    "print(\"R Squared for KNN Regressor is  :- \",r2_score(y_test,y_pred))"
   ]
  },
  {
   "cell_type": "code",
   "execution_count": 20,
   "metadata": {},
   "outputs": [
    {
     "data": {
      "text/plain": [
       "Text(0.5, 1.0, 'Actual vs Predicted Points')"
      ]
     },
     "execution_count": 20,
     "metadata": {},
     "output_type": "execute_result"
    },
    {
     "data": {
      "image/png": "[encoded data removed]",
      "text/plain": [
       "<Figure size 432x432 with 1 Axes>"
      ]
     },
     "metadata": {},
     "output_type": "display_data"
    }
   ],
   "source": [
    "#R squared is a statistical measure of how close the data points are to thr fitted regression line\n",
    "\n",
    "\n",
    "plt.figure(figsize=(6,6))\n",
    "plt.scatter(y_test,y_pred)\n",
    "plt.plot([0,2500],[0,2500],'--k')\n",
    "plt.axis(\"tight\")\n",
    "plt.xlabel(\"Actual Rating\")\n",
    "plt.ylabel(\"Predicted Rating\")\n",
    "plt.tight_layout()\n",
    "plt.title(\"Actual vs Predicted Points\")"
   ]
  },
  {
   "cell_type": "code",
   "execution_count": 21,
   "metadata": {},
   "outputs": [
    {
     "name": "stdout",
     "output_type": "stream",
     "text": [
      "RMSE for RandomForest Regressor is  :-  52.744436367910836\n",
      "R Squared for RandomForest Regressor is  :-  0.9885032953349514\n"
     ]
    }
   ],
   "source": [
    "from sklearn.ensemble import RandomForestRegressor\n",
    "Rf = RandomForestRegressor(random_state = 1)\n",
    "Rf.fit(x_train,y_train)\n",
    "y_pred=Rf.predict(x_test)\n",
    "print(\"RMSE for RandomForest Regressor is  :- \",np.sqrt(mean_squared_error(y_pred,y_test)))\n",
    "print(\"R Squared for RandomForest Regressor is  :- \",r2_score(y_test,y_pred))"
   ]
  },
  {
   "cell_type": "code",
   "execution_count": 22,
   "metadata": {},
   "outputs": [
    {
     "data": {
      "text/plain": [
       "Text(0.5, 1.0, 'Actual vs Predicted Points--RandomForestRegressor')"
      ]
     },
     "execution_count": 22,
     "metadata": {},
     "output_type": "execute_result"
    },
    {
     "data": {
      "image/png": "[encoded data removed]",
      "text/plain": [
       "<Figure size 432x432 with 1 Axes>"
      ]
     },
     "metadata": {},
     "output_type": "display_data"
    }
   ],
   "source": [
    "#R squared is a statistical measure of how close the data points are to thr fitted regression line\n",
    "\n",
    "\n",
    "plt.figure(figsize=(6,6))\n",
    "plt.scatter(y_test,y_pred)\n",
    "plt.plot([0,2500],[0,2500],'--k')\n",
    "plt.axis(\"tight\")\n",
    "plt.xlabel(\"Actual Rating\")\n",
    "plt.ylabel(\"Predicted Rating\")\n",
    "plt.tight_layout()\n",
    "plt.title(\"Actual vs Predicted Points--RandomForestRegressor\",fontsize=18)"
   ]
  },
  {
   "cell_type": "code",
   "execution_count": 23,
   "metadata": {},
   "outputs": [
    {
     "name": "stdout",
     "output_type": "stream",
     "text": [
      "RMSE is  :-  241.97474246484296 For Depth value :- 1\n",
      "RMSE is  :-  120.12885179433188 For Depth value :- 2\n",
      "RMSE is  :-  70.01110593091636 For Depth value :- 3\n",
      "RMSE is  :-  59.50580786687762 For Depth value :- 4\n",
      "RMSE is  :-  55.29846210031686 For Depth value :- 5\n",
      "RMSE is  :-  53.81523169064212 For Depth value :- 6\n",
      "RMSE is  :-  54.41103469474289 For Depth value :- 7\n",
      "RMSE is  :-  53.138815243339586 For Depth value :- 8\n",
      "RMSE is  :-  53.43299603950885 For Depth value :- 9\n",
      "RMSE is  :-  50.93145610514773 For Depth value :- 10\n",
      "RMSE is  :-  53.051465627387074 For Depth value :- 11\n",
      "RMSE is  :-  52.26235308930614 For Depth value :- 12\n",
      "RMSE is  :-  52.42349688322346 For Depth value :- 13\n",
      "RMSE is  :-  52.06751951088634 For Depth value :- 14\n",
      "RMSE is  :-  52.744436367910836 For Depth value :- 15\n",
      "RMSE is  :-  52.744436367910836 For Depth value :- 16\n",
      "RMSE is  :-  52.744436367910836 For Depth value :- 17\n",
      "RMSE is  :-  52.744436367910836 For Depth value :- 18\n",
      "RMSE is  :-  52.744436367910836 For Depth value :- 19\n",
      "RMSE is  :-  52.744436367910836 For Depth value :- 20\n",
      "RMSE is  :-  52.744436367910836 For Depth value :- 21\n",
      "RMSE is  :-  52.744436367910836 For Depth value :- 22\n",
      "RMSE is  :-  52.744436367910836 For Depth value :- 23\n",
      "RMSE is  :-  52.744436367910836 For Depth value :- 24\n",
      "RMSE is  :-  52.744436367910836 For Depth value :- 25\n",
      "RMSE is  :-  52.744436367910836 For Depth value :- 26\n",
      "RMSE is  :-  52.744436367910836 For Depth value :- 27\n",
      "RMSE is  :-  52.744436367910836 For Depth value :- 28\n",
      "RMSE is  :-  52.744436367910836 For Depth value :- 29\n",
      "RMSE is  :-  52.744436367910836 For Depth value :- 30\n"
     ]
    }
   ],
   "source": [
    "for depth in range(30):\n",
    "    depth+=1\n",
    "    Rf = RandomForestRegressor(max_depth=depth,random_state =1)\n",
    "    Rf.fit(x_train,y_train)\n",
    "    y_pred=Rf.predict(x_test)\n",
    "    print(\"RMSE is  :- \",np.sqrt(mean_squared_error(y_pred,y_test)),\"For Depth value :-\",depth)\n",
    "    "
   ]
  },
  {
   "cell_type": "markdown",
   "metadata": {},
   "source": [
    "##### NOTE :-the random forest regressor gives a low RMSE value for maxdepth =13 and The RMSE remains constant aftermath.\n",
    "\n",
    "#####  CONCLUSION\n",
    "\n",
    "##### The R Squared for KNN Regressor is  0.9703610383923194\n",
    "\n",
    "##### The R Squared for RandomForest Regressor is  0.9898425129090567\n"
   ]
  },
  {
   "cell_type": "code",
   "execution_count": null,
   "metadata": {},
   "outputs": [],
   "source": []
  },
  {
   "cell_type": "code",
   "execution_count": null,
   "metadata": {},
   "outputs": [],
   "source": []
  },
  {
   "cell_type": "code",
   "execution_count": null,
   "metadata": {},
   "outputs": [],
   "source": []
  },
  {
   "cell_type": "code",
   "execution_count": null,
   "metadata": {},
   "outputs": [],
   "source": []
  }
 ],
 "metadata": {
  "kernelspec": {
   "display_name": "Python 3",
   "language": "python",
   "name": "python3"
  },
  "language_info": {
   "codemirror_mode": {
    "name": "ipython",
    "version": 3
   },
   "file_extension": ".py",
   "mimetype": "text/x-python",
   "name": "python",
   "nbconvert_exporter": "python",
   "pygments_lexer": "ipython3",
   "version": "3.8.5"
  }
 },
 "nbformat": 4,
 "nbformat_minor": 4
}
